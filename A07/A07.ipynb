{
 "cells": [
  {
   "cell_type": "markdown",
   "metadata": {},
   "source": [
    "# Assignment 7"
   ]
  },
  {
   "cell_type": "code",
   "execution_count": 61,
   "metadata": {},
   "outputs": [],
   "source": [
    "# Usage example:\n",
    "# data = [((0, 0), 'a'), ((0, 1), 'a'), ((1, 0), 'a'), ((1, 1), 'a'), ((3, 4), 'b'), ((3, 5), 'b'), ((4, 4), 'b'), ((4, 5), 'b')]\n",
    "# q = (1, 2)\n",
    "# k = len(data) // 2\n",
    "def knn_pred(k, data, q):\n",
    "    dists = []\n",
    "    for p in data:\n",
    "        dist_sq = 0\n",
    "        for i in range(len(q)):\n",
    "            dist_sq += (q[i] - p[0][i]) ** 2\n",
    "        dists.append((dist_sq ** 0.5, p[1]))\n",
    "    dists.sort(key=lambda x: x[0])\n",
    "    vote = {}\n",
    "    for i in range(k):\n",
    "        if not dists[i][1] in vote:\n",
    "            vote[dists[i][1]] = 0\n",
    "        vote[dists[i][1]] += 1\n",
    "    pred = None\n",
    "    for key in vote.keys():\n",
    "        if pred == None:\n",
    "            pred = key\n",
    "            continue\n",
    "        if vote[key] > vote[pred]:\n",
    "            pred = key\n",
    "    return pred\n",
    "\n",
    "def best_k(k_vals, train, val):\n",
    "    best_correct = 0\n",
    "    for k in k_vals:\n",
    "        correct = 0\n",
    "        for p in val:\n",
    "            if knn_pred(k, train, p[0]) == p[1]:\n",
    "                correct += 1\n",
    "        if correct > best_correct:\n",
    "            best_k = k\n",
    "            best_correct = correct\n",
    "    return best_k"
   ]
  },
  {
   "cell_type": "markdown",
   "metadata": {},
   "source": [
    "## Question 1: Action/Comedy Classification "
   ]
  },
  {
   "cell_type": "code",
   "execution_count": 62,
   "metadata": {},
   "outputs": [
    {
     "data": {
      "text/plain": [
       "1"
      ]
     },
     "execution_count": 62,
     "metadata": {},
     "output_type": "execute_result"
    }
   ],
   "source": [
    "train = [\n",
    "    ((100, 0), 'Comedy'),\n",
    "    ((0, 100), 'Action'),\n",
    "    ((15, 90), 'Action'),\n",
    "    ((85, 20), 'Comedy'),\n",
    "]\n",
    "\n",
    "val = [\n",
    "    ((10, 95), 'Action'),\n",
    "    ((85, 15), 'Comedy')\n",
    "]\n",
    "\n",
    "k_vals = range(1, len(train) + 1, 2)\n",
    "k = best_k(k_vals, train, val)\n",
    "k"
   ]
  },
  {
   "cell_type": "code",
   "execution_count": 63,
   "metadata": {},
   "outputs": [
    {
     "data": {
      "text/plain": [
       "['Action', 'Comedy', 'Comedy']"
      ]
     },
     "execution_count": 63,
     "metadata": {},
     "output_type": "execute_result"
    }
   ],
   "source": [
    "test = [\n",
    "    (6, 70),\n",
    "    (93, 23),\n",
    "    (50, 50),\n",
    "]\n",
    "\n",
    "test_pred = [knn_pred(k, train, x) for x in test]\n",
    "test_pred"
   ]
  },
  {
   "cell_type": "markdown",
   "metadata": {},
   "source": [
    "## Question 2: Iris Dataset"
   ]
  },
  {
   "cell_type": "code",
   "execution_count": 64,
   "metadata": {},
   "outputs": [
    {
     "data": {
      "text/plain": [
       "9"
      ]
     },
     "execution_count": 64,
     "metadata": {},
     "output_type": "execute_result"
    }
   ],
   "source": [
    "from sklearn import datasets\n",
    "\n",
    "iris = datasets.load_iris()\n",
    "\n",
    "test_split = 0.3\n",
    "val_split = 0.3\n",
    "\n",
    "train = []\n",
    "val = []\n",
    "test = []\n",
    "\n",
    "num_class = len(iris['target_names'])\n",
    "num_class_rec = len(iris['data']) // num_class\n",
    "\n",
    "for i in range(num_class):\n",
    "    for j in range(num_class_rec):\n",
    "        feats = iris['data'][i * num_class_rec + j]\n",
    "        label = iris['target'][i * num_class_rec + j]\n",
    "        if j < test_split * num_class_rec:\n",
    "            test.append((feats, label))\n",
    "        elif j < test_split * num_class_rec + val_split * (1 - test_split) * num_class_rec:\n",
    "            val.append((feats, label))\n",
    "        else:\n",
    "            train.append((feats, label))\n",
    "\n",
    "k_vals = range(1, 10)\n",
    "k = best_k(k_vals, train, val)\n",
    "k"
   ]
  },
  {
   "cell_type": "code",
   "execution_count": 65,
   "metadata": {},
   "outputs": [
    {
     "name": "stdout",
     "output_type": "stream",
     "text": [
      "Accuracy: 0.9555555555555556 (43/45)\n"
     ]
    }
   ],
   "source": [
    "test_pred = [knn_pred(k, train, x[0]) for x in test]\n",
    "\n",
    "correct = 0\n",
    "for i in range(len(test)):\n",
    "    if test_pred[i] == test[i][1]:\n",
    "        correct += 1\n",
    "\n",
    "print(f'Accuracy: {correct / len(test)} ({correct}/{len(test)})')"
   ]
  }
 ],
 "metadata": {
  "kernelspec": {
   "display_name": "Python 3",
   "language": "python",
   "name": "python3"
  },
  "language_info": {
   "codemirror_mode": {
    "name": "ipython",
    "version": 3
   },
   "file_extension": ".py",
   "mimetype": "text/x-python",
   "name": "python",
   "nbconvert_exporter": "python",
   "pygments_lexer": "ipython3",
   "version": "3.11.2"
  }
 },
 "nbformat": 4,
 "nbformat_minor": 2
}
