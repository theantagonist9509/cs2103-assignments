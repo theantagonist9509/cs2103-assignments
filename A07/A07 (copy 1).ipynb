{
 "cells": [
  {
   "cell_type": "markdown",
   "metadata": {},
   "source": [
    "# Assignment 7"
   ]
  },
  {
   "cell_type": "code",
   "execution_count": 61,
   "metadata": {},
   "outputs": [
    {
     "ename": "",
     "evalue": "",
     "output_type": "error",
     "traceback": [
      "\u001b[1;31mRunning cells with 'Python 3.11.2' requires the ipykernel package.\n",
      "\u001b[1;31mRun the following command to install 'ipykernel' into the Python environment. \n",
      "\u001b[1;31mCommand: '/bin/python3 -m pip install ipykernel -U --user --force-reinstall'"
     ]
    }
   ],
   "source": [
    "def getKnnPrediction(k, data, q):\n",
    "    dists = []\n",
    "    for p in data:\n",
    "        dist_sq = 0\n",
    "        for i in range(len(q)):\n",
    "            dist_sq += (q[i] - p[0][i]) ** 2\n",
    "        dists.append((dist_sq ** 0.5, p[1]))\n",
    "    dists.sort(key=lambda x: x[0])\n",
    "    vote = {}\n",
    "    for i in range(k):\n",
    "        if not dists[i][1] in vote:\n",
    "            vote[dists[i][1]] = 0\n",
    "        vote[dists[i][1]] += 1\n",
    "    pred = None\n",
    "    for key in vote.keys():\n",
    "        if pred == None:\n",
    "            pred = key\n",
    "            continue\n",
    "        if vote[key] > vote[pred]:\n",
    "            pred = key\n",
    "    return pred\n",
    "\n",
    "def getBestK(k_vals, train, val):\n",
    "    best_correct = 0\n",
    "    for k in k_vals:\n",
    "        correct = 0\n",
    "        for p in val:\n",
    "            if getKnnPrediction(k, train, p[0]) == p[1]:\n",
    "                correct += 1\n",
    "        if correct > best_correct:\n",
    "            best_k = k\n",
    "            best_correct = correct\n",
    "    return best_k"
   ]
  },
  {
   "cell_type": "code",
   "execution_count": null,
   "metadata": {},
   "outputs": [],
   "source": [
    "# First question\n",
    "\n",
    "train = [\n",
    "    ((100, 0), 'Comedy'),\n",
    "    ((0, 100), 'Action'),\n",
    "    ((15, 90), 'Action'),\n",
    "    ((85, 20), 'Comedy'),\n",
    "]\n",
    "\n",
    "val = [\n",
    "    ((10, 95), 'Action'),\n",
    "    ((85, 15), 'Comedy')\n",
    "]\n",
    "\n",
    "k_vals = range(1, len(train) + 1, 2)\n",
    "k = getBestK(k_vals, train, val)\n",
    "k"
   ]
  },
  {
   "cell_type": "code",
   "execution_count": null,
   "metadata": {},
   "outputs": [],
   "source": [
    "test = [\n",
    "    (6, 70),\n",
    "    (93, 23),\n",
    "    (50, 50),\n",
    "]\n",
    "\n",
    "test_pred = [getKnnPrediction(k, train, x) for x in test]\n",
    "test_pred"
   ]
  },
  {
   "cell_type": "code",
   "execution_count": null,
   "metadata": {},
   "outputs": [],
   "source": [
    "# Second question\n",
    "\n",
    "from sklearn import datasets\n",
    "\n",
    "iris = datasets.load_iris()\n",
    "\n",
    "test_split = 0.3\n",
    "val_split = 0.3\n",
    "\n",
    "train = []\n",
    "val = []\n",
    "test = []\n",
    "\n",
    "num_class = len(iris['target_names'])\n",
    "num_class_rec = len(iris['data']) // num_class\n",
    "\n",
    "for i in range(num_class):\n",
    "    for j in range(num_class_rec):\n",
    "        feats = iris['data'][i * num_class_rec + j]\n",
    "        label = iris['target'][i * num_class_rec + j]\n",
    "        if j < test_split * num_class_rec:\n",
    "            test.append((feats, label))\n",
    "        elif j < test_split * num_class_rec + val_split * (1 - test_split) * num_class_rec:\n",
    "            val.append((feats, label))\n",
    "        else:\n",
    "            train.append((feats, label))\n",
    "\n",
    "k_vals = range(1, 10)\n",
    "k = getBestK(k_vals, train, val)\n",
    "k"
   ]
  },
  {
   "cell_type": "code",
   "execution_count": null,
   "metadata": {},
   "outputs": [],
   "source": [
    "test_pred = [getKnnPrediction(k, train, x[0]) for x in test]\n",
    "\n",
    "correct = 0\n",
    "for i in range(len(test)):\n",
    "    if test_pred[i] == test[i][1]:\n",
    "        correct += 1\n",
    "\n",
    "print(f'Final acc: {100 * correct / len(test)}% ({correct}/{len(test)})')"
   ]
  }
 ],
 "metadata": {
  "kernelspec": {
   "display_name": "Python 3",
   "language": "python",
   "name": "python3"
  },
  "language_info": {
   "codemirror_mode": {
    "name": "ipython",
    "version": 3
   },
   "file_extension": ".py",
   "mimetype": "text/x-python",
   "name": "python",
   "nbconvert_exporter": "python",
   "pygments_lexer": "ipython3",
   "version": "3.11.2"
  }
 },
 "nbformat": 4,
 "nbformat_minor": 2
}
